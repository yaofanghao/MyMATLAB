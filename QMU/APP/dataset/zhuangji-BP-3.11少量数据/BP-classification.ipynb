{
 "cells": [
  {
   "cell_type": "code",
   "execution_count": 6,
   "metadata": {},
   "outputs": [
    {
     "name": "stdout",
     "output_type": "stream",
     "text": [
      "     200.0000  1.3333    0.0000  \n",
      "0         200  1.414138         1\n",
      "1         200  1.333300         0\n",
      "2         200  1.414138         1\n",
      "3         200  1.333300         0\n",
      "4         200  1.414138         1\n",
      "..        ...       ...       ...\n",
      "669       400  1.300000         0\n",
      "670       400  1.300000         0\n",
      "671       400  1.300000         0\n",
      "672       400  1.300000         0\n",
      "673       400  1.200000         0\n",
      "\n",
      "[674 rows x 3 columns]\n"
     ]
    }
   ],
   "source": [
    "import pandas as pd\n",
    "\n",
    "file = \"train.xls\"\n",
    "\n",
    "data = pd.read_excel(file) \n",
    "print(data)\n"
   ]
  }
 ],
 "metadata": {
  "interpreter": {
   "hash": "0600588c3b5f4418cbe7b5ebc6825b479f3bc010269d8b60d75058cdd010adfe"
  },
  "kernelspec": {
   "display_name": "Python 3.7.8 64-bit",
   "language": "python",
   "name": "python3"
  },
  "language_info": {
   "codemirror_mode": {
    "name": "ipython",
    "version": 3
   },
   "file_extension": ".py",
   "mimetype": "text/x-python",
   "name": "python",
   "nbconvert_exporter": "python",
   "pygments_lexer": "ipython3",
   "version": "3.7.8"
  },
  "orig_nbformat": 4
 },
 "nbformat": 4,
 "nbformat_minor": 2
}
