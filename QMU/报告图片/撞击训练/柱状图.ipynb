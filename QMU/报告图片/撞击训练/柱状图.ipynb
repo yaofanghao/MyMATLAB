{
 "cells": [
  {
   "cell_type": "code",
   "execution_count": 1,
   "metadata": {},
   "outputs": [
    {
     "name": "stderr",
     "output_type": "stream",
     "text": [
      "E:\\PycharmProjects\\venv\\lib\\site-packages\\ipykernel_launcher.py:29: UserWarning: FixedFormatter should only be used together with FixedLocator\n"
     ]
    },
    {
     "data": {
      "image/png": "[encoded data removed]",
      "text/plain": [
       "<Figure size 432x288 with 2 Axes>"
      ]
     },
     "metadata": {
      "needs_background": "light"
     },
     "output_type": "display_data"
    }
   ],
   "source": [
    "import matplotlib.pyplot as plt\n",
    "\n",
    "ACCURACY = [0.719, 0.714, 0.714, 0.714, 0.727, 0.738, 0.727, 0.880]\n",
    "TRAIN_TIME = [1.4936, 11.213, 9.3413, 21.475, 0.94671, 0.72878, 5.6921, 0.07]\n",
    "labels = ['A', 'B', 'C', 'D', 'E', 'F', 'G', 'H']\n",
    "\n",
    "plt.rcParams['axes.labelsize'] = 16  # xy轴label的size\n",
    "plt.rcParams['xtick.labelsize'] = 12  # x轴ticks的size\n",
    "plt.rcParams['ytick.labelsize'] = 14  # y轴ticks的size\n",
    "plt.rcParams['legend.fontsize'] = 12  # 图例的size\n",
    "\n",
    "# 设置柱形的间隔\n",
    "width = 0.2  # 柱形的宽度\n",
    "x1_list = []\n",
    "x2_list = []\n",
    "for i in range(len(ACCURACY)):\n",
    "    x1_list.append(i)\n",
    "    x2_list.append(i + width)\n",
    "\n",
    "# 创建图层\n",
    "fig, ax1 = plt.subplots()\n",
    "\n",
    "# 设置左侧Y轴对应的figure\n",
    "ax1.set_ylabel('Accuarcy')\n",
    "ax1.set_ylim(0, 1)\n",
    "lns1 = ax1.bar(x1_list, ACCURACY, width=width, color='lightseagreen', align='edge', label='Accuracy')\n",
    "\n",
    "# ax1.legend()\n",
    "ax1.set_xticklabels(ax1.get_xticklabels())  # 设置共用的x轴\n",
    "\n",
    "# 设置右侧Y轴对应的figure\n",
    "ax2 = ax1.twinx()\n",
    "ax2.set_ylabel('Train time/s')\n",
    "ax2.set_ylim(0, max(TRAIN_TIME)*1.1)\n",
    "lns2 = ax2.bar(x2_list, TRAIN_TIME, width=width, color='tab:orange', align='edge', tick_label=labels, label='Train time')\n",
    "\n",
    "plt.legend(handles=[lns1, lns2], loc=(0.1,0.8)) #图例 \n",
    "\n",
    "plt.tight_layout()\n",
    "plt.savefig(\"model_result.png\")\n",
    "plt.show()\n"
   ]
  },
  {
   "cell_type": "code",
   "execution_count": null,
   "metadata": {},
   "outputs": [],
   "source": []
  }
 ],
 "metadata": {
  "interpreter": {
   "hash": "86007600e5b6c9a1da171e7306281d2c726c74e7e11364567bf42e8cc5d33bac"
  },
  "kernelspec": {
   "display_name": "Python 3.7.8 64-bit (system)",
   "language": "python",
   "name": "python3"
  },
  "language_info": {
   "codemirror_mode": {
    "name": "ipython",
    "version": 3
   },
   "file_extension": ".py",
   "mimetype": "text/x-python",
   "name": "python",
   "nbconvert_exporter": "python",
   "pygments_lexer": "ipython3",
   "version": "3.7.8"
  },
  "orig_nbformat": 4
 },
 "nbformat": 4,
 "nbformat_minor": 2
}
