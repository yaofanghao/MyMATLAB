{
 "cells": [
  {
   "cell_type": "code",
   "execution_count": 15,
   "metadata": {},
   "outputs": [],
   "source": [
    "import pandas as pd\n",
    "import numpy as np\n",
    "from sklearn.neighbors import KNeighborsClassifier\n",
    "from sklearn.preprocessing import StandardScaler\n",
    "import matplotlib.pyplot as plt\n",
    "\n",
    "standard_flag = True"
   ]
  },
  {
   "cell_type": "markdown",
   "metadata": {},
   "source": [
    "# 训练"
   ]
  },
  {
   "cell_type": "code",
   "execution_count": 16,
   "metadata": {},
   "outputs": [
    {
     "data": {
      "text/plain": [
       "array([[-0.31050763, -0.29997733, -0.3107326 , -0.29975724, -0.31047644,\n",
       "        -0.29988487, -0.3106494 , -0.29982702],\n",
       "       [-0.31267595, -0.30288742, -0.37885107, -0.37240046, -0.37906842,\n",
       "        -0.37294388, -0.37869968, -0.3722429 ],\n",
       "       [-0.37878324, -0.37217949, -0.31271255, -0.30261727, -0.37875623,\n",
       "        -0.37252023, -0.3789449 , -0.3728418 ],\n",
       "       [-0.37916866, -0.37284206, -0.37886652, -0.3722559 , -0.31264734,\n",
       "        -0.30265426, -0.37861356, -0.37246065],\n",
       "       [-0.3788375 , -0.37238837, -0.37904094, -0.37283493, -0.37875974,\n",
       "        -0.37238396, -0.31298225, -0.30269582],\n",
       "       [-0.3105092 , -0.29983546, -0.3107567 , -0.29963011, -0.31067444,\n",
       "        -0.29962642, -0.31062004, -0.29964074],\n",
       "       [-0.30909903, -0.29769034, -0.35574709, -0.37301583, -0.37924216,\n",
       "        -0.37315638, -0.37826682, -0.35929743],\n",
       "       [-0.37827697, -0.35918506, -0.30920155, -0.29729248, -0.35604659,\n",
       "        -0.37324314, -0.37909493, -0.37286368],\n",
       "       [-0.3789508 , -0.37270804, -0.3785469 , -0.35896528, -0.30934608,\n",
       "        -0.29756553, -0.3559449 , -0.37309255],\n",
       "       [-0.35591382, -0.37298999, -0.37896399, -0.37306054, -0.3784892 ,\n",
       "        -0.35887137, -0.30927731, -0.29745451],\n",
       "       [-0.2533593 , -0.23970567, -0.25356701, -0.23949557, -0.25329704,\n",
       "        -0.23959555, -0.25350568, -0.23956447],\n",
       "       [-0.2584533 , -0.24717903, -0.37853577, -0.371842  , -0.37893848,\n",
       "        -0.37266388, -0.37843632, -0.37160821],\n",
       "       [-0.37851994, -0.37154465, -0.25844448, -0.24692154, -0.37844056,\n",
       "        -0.37196169, -0.37881504, -0.37256181],\n",
       "       [-0.37903888, -0.37256208, -0.37860314, -0.37162115, -0.25835913,\n",
       "        -0.24694982, -0.37829832, -0.37190235],\n",
       "       [-0.37852237, -0.37183   , -0.37891116, -0.37255498, -0.37849619,\n",
       "        -0.37174924, -0.25874949, -0.24700838],\n",
       "       [-0.25342874, -0.23970671, -0.25370678, -0.23951113, -0.25353846,\n",
       "        -0.23949397, -0.25353865, -0.23951712],\n",
       "       [-0.25101296, -0.23593434, -0.33616185, -0.37306791, -0.37916866,\n",
       "        -0.37298622, -0.37788258, -0.34711249],\n",
       "       [-0.37788961, -0.34699076, -0.25109281, -0.23552861, -0.33646353,\n",
       "        -0.37329508, -0.37902155, -0.37269362],\n",
       "       [-0.37902405, -0.37253823, -0.37816137, -0.34680114, -0.25130434,\n",
       "        -0.23585095, -0.33638517, -0.37314353],\n",
       "       [-0.33633498, -0.3730432 , -0.37889063, -0.37289047, -0.37810426,\n",
       "        -0.34666159, -0.25116714, -0.23568891],\n",
       "       [-0.23442047, -0.21985442, -0.23462249, -0.21964747, -0.23434932,\n",
       "        -0.21973779, -0.2345685 , -0.21971621],\n",
       "       [-0.24061404, -0.22909713, -0.37844744, -0.37168831, -0.37890292,\n",
       "        -0.37258758, -0.37836411, -0.37143443],\n",
       "       [-0.37844774, -0.37137084, -0.24058994, -0.22884356, -0.37835213,\n",
       "        -0.37180799, -0.3787795 , -0.37248552],\n",
       "       [-0.37900336, -0.37248579, -0.37853092, -0.37144738, -0.24049896,\n",
       "        -0.22886911, -0.37821002, -0.37174872],\n",
       "       [-0.37843411, -0.37167636, -0.37887565, -0.37247871, -0.37842392,\n",
       "        -0.37157547, -0.24090693, -0.22893322],\n",
       "       [-0.23451388, -0.21990661, -0.23480361, -0.21971411, -0.23460599,\n",
       "        -0.21969247, -0.23462389, -0.21971839],\n",
       "       [-0.23176507, -0.21561373, -0.32967135, -0.37309584, -0.37914868,\n",
       "        -0.37294039, -0.37777726, -0.34307857],\n",
       "       [-0.37778331, -0.34295351, -0.23183816, -0.21520502, -0.32997384,\n",
       "        -0.37332302, -0.37900159, -0.37264782],\n",
       "       [-0.37904396, -0.37249252, -0.37805564, -0.34277487, -0.23207384,\n",
       "        -0.21554435, -0.32990354, -0.37317112],\n",
       "       [-0.32984684, -0.37307147, -0.37887068, -0.37284467, -0.37799874,\n",
       "        -0.34261903, -0.23191115, -0.21536478],\n",
       "       [-0.17784508, -0.16082111, -0.17803021, -0.16062323, -0.17775055,\n",
       "        -0.1606837 , -0.17799834, -0.16069184],\n",
       "       [-0.18759557, -0.17589953, -0.37822058, -0.37129788, -0.37881282,\n",
       "        -0.37239479, -0.37818104, -0.37099449],\n",
       "       [-0.37826472, -0.37093085, -0.18752532, -0.175657  , -0.37812503,\n",
       "        -0.37141753, -0.37868946, -0.37229275],\n",
       "       [-0.37891338, -0.37229303, -0.37834785, -0.37100748, -0.18741985,\n",
       "        -0.17567485, -0.37798325, -0.37135844],\n",
       "       [-0.37820745, -0.37128608, -0.37878568, -0.372286  , -0.37824075,\n",
       "        -0.37113561, -0.18787873, -0.17575532],\n",
       "       [-0.17801251, -0.16103259, -0.17834078, -0.16084901, -0.17805379,\n",
       "        -0.16081394, -0.17812378, -0.16084774],\n",
       "       [-0.17427146, -0.15522909, -0.31028787, -0.37318986, -0.37909824,\n",
       "        -0.37282546, -0.37750599, -0.33103015],\n",
       "       [-0.37750929, -0.33089463, -0.17432619, -0.15481073, -0.31059278,\n",
       "        -0.37341712, -0.37895122, -0.37253293],\n",
       "       [-0.3790942 , -0.3723779 , -0.37778319, -0.33075111, -0.17463833,\n",
       "        -0.1552022 , -0.3105472 , -0.37326417],\n",
       "       [-0.3104708 , -0.37316642, -0.37882034, -0.37272982, -0.37772691,\n",
       "        -0.33054388, -0.17439304, -0.15496892],\n",
       "       [-0.15905219, -0.1412848 , -0.15923173, -0.14108983, -0.15895075,\n",
       "        -0.14114012, -0.15920726, -0.14115853],\n",
       "       [-0.17005657, -0.1584497 , -0.3781555 , -0.37118684, -0.37878724,\n",
       "        -0.37234019, -0.37812907, -0.37086977],\n",
       "       [-0.37821277, -0.37080611, -0.16997084, -0.15821064, -0.37805987,\n",
       "        -0.37130649, -0.3786639 , -0.37223816],\n",
       "       [-0.37888783, -0.37223844, -0.37829588, -0.37088276, -0.1698612 ,\n",
       "        -0.15822606, -0.37791818, -0.37124745],\n",
       "       [-0.37814243, -0.3711751 , -0.37876014, -0.37223143, -0.37818875,\n",
       "        -0.37101091, -0.17033655, -0.1583119 ],\n",
       "       [-0.15924477, -0.14155081, -0.15958687, -0.14137012, -0.15926966,\n",
       "        -0.14133057, -0.15935674, -0.14136687],\n",
       "       [-0.15517503, -0.13525784, -0.30385155, -0.37322224, -0.37908396,\n",
       "        -0.37279311, -0.3774272 , -0.32702758],\n",
       "       [-0.37742964, -0.32688844, -0.15522419, -0.13483607, -0.30415725,\n",
       "        -0.37343132, -0.37893696, -0.37250059],\n",
       "       [-0.37910841, -0.37234564, -0.37770402, -0.32675726, -0.15556292,\n",
       "        -0.13524523, -0.30412006, -0.37329463],\n",
       "       [-0.30403704, -0.37319908, -0.3788061 , -0.3726975 , -0.37764794,\n",
       "        -0.32653216, -0.1552884 , -0.13499375],\n",
       "       [ 0.12065801,  0.14704725,  0.12056127,  0.14720179,  0.12083392,\n",
       "         0.1473115 ,  0.12047363,  0.14712685],\n",
       "       [ 0.08870715,  0.09404151, -0.37753632, -0.37014718, -0.37854787,\n",
       "        -0.37183183, -0.37764395, -0.36970919],\n",
       "       [-0.37772787, -0.36964556,  0.08902739,  0.09423543, -0.37744008,\n",
       "        -0.3702669 , -0.37842476, -0.37172995],\n",
       "       [-0.3786488 , -0.37173013, -0.37781077, -0.36972236,  0.08917802,\n",
       "         0.09425142, -0.37729932, -0.37020827],\n",
       "       [-0.37752404, -0.3701362 , -0.37852126, -0.37172353, -0.37770348,\n",
       "        -0.36985084,  0.08847158,  0.09408789],\n",
       "       [ 0.12007454,  0.1459191 ,  0.11949005,  0.14605836,  0.12027738,\n",
       "         0.14616549,  0.11994246,  0.14609614],\n",
       "       [ 0.12899854,  0.15907932, -0.20821656, -0.37309832, -0.37895138,\n",
       "        -0.37249538, -0.37661993, -0.26738618],\n",
       "       [-0.37661195, -0.26718728,  0.12901288,  0.15955785, -0.20853039,\n",
       "        -0.37302071, -0.37880448, -0.37220285],\n",
       "       [-0.37924037, -0.37204895, -0.3768916 , -0.26726468,  0.12823841,\n",
       "         0.1588742 , -0.20862351, -0.3728885 ],\n",
       "       [-0.20843985, -0.37308206, -0.37867384, -0.3724001 , -0.37683808,\n",
       "        -0.2667446 ,  0.12901023,  0.15940823],\n",
       "       [ 0.28746137,  0.31783443,  0.28741385,  0.3179662 ,  0.28766869,\n",
       "         0.31817476,  0.28725846,  0.3178846 ],\n",
       "       [ 0.24199005,  0.24125327, -0.37733346, -0.36981163, -0.37847051,\n",
       "        -0.37166836, -0.37748784, -0.36933716],\n",
       "       [-0.37757186, -0.36927362,  0.24245189,  0.24142358, -0.37723704,\n",
       "        -0.36993144, -0.37834748, -0.37156657],\n",
       "       [-0.37857152, -0.37156664, -0.37765464, -0.36935037,  0.24261714,\n",
       "         0.24145574, -0.37709658, -0.36987287],\n",
       "       [-0.37732151, -0.36980099, -0.37844409, -0.37156029, -0.37754736,\n",
       "        -0.36947906,  0.2417791 ,  0.24124713],\n",
       "       [ 0.2866368 ,  0.31616725,  0.28588955,  0.31628219,  0.28696785,\n",
       "         0.31643019,  0.28648783,  0.31634342],\n",
       "       [ 0.29843613,  0.3332248 , -0.15130733, -0.3729287 , -0.3789089 ,\n",
       "        -0.37240083, -0.37631849, -0.2317699 ],\n",
       "       [-0.37630594, -0.23153228,  0.29847822,  0.33373962, -0.15162237,\n",
       "        -0.37285046, -0.378762  , -0.37210825],\n",
       "       [-0.37923307, -0.37195479, -0.37658758, -0.23174706,  0.29742538,\n",
       "         0.33288756, -0.15179562, -0.37272026],\n",
       "       [-0.15155101, -0.37291126, -0.37863147, -0.37230568, -0.37653522,\n",
       "        -0.23103608,  0.29852386,  0.33359554],\n",
       "       [ 0.79851868,  0.83913894,  0.7986217 ,  0.83920287,  0.79880154,\n",
       "         0.83971869,  0.79825726,  0.83909477],\n",
       "       [ 0.70997434,  0.68671352, -0.37699286, -0.36925231, -0.37834122,\n",
       "        -0.37139597, -0.37722798, -0.36871948],\n",
       "       [-0.37731224, -0.36865623,  0.71087217,  0.68681752, -0.37689617,\n",
       "        -0.36937239, -0.37821838, -0.37129442],\n",
       "       [-0.37844234, -0.37129408, -0.37739469, -0.36873266,  0.71106613,\n",
       "         0.68689411, -0.37675617, -0.36931371],\n",
       "       [-0.37698151, -0.36924235, -0.37831519, -0.37128841, -0.37728753,\n",
       "        -0.36886192,  0.7098344 ,  0.68654983],\n",
       "       [ 0.7969398 ,  0.83577258,  0.7956613 ,  0.83581254,  0.79765132,\n",
       "         0.83608705,  0.79673017,  0.8359515 ],\n",
       "       [ 0.81751453,  0.86443687,  0.02271905, -0.37260818, -0.37883837,\n",
       "        -0.37224452, -0.37574758, -0.12254077],\n",
       "       [-0.37572552, -0.12217867,  0.81762262,  0.86506563,  0.02241304,\n",
       "        -0.37252839, -0.37869145, -0.37195179],\n",
       "       [-0.37916294, -0.3717992 , -0.37601063, -0.12283896,  0.81568698,\n",
       "         0.86369116,  0.02199005, -0.37240235],\n",
       "       [ 0.0224237 , -0.37258836, -0.37856115, -0.37214963, -0.37596076,\n",
       "        -0.1215149 ,  0.81783795,  0.86494117],\n",
       "       [ 4.48090139,  4.58146906,  4.48208512,  4.58105444,  4.48159088,\n",
       "         4.58380525,  4.48020478,  4.58070501],\n",
       "       [ 4.07068101,  3.85731425, -0.37652484, -0.36848999, -0.37816406,\n",
       "        -0.371024  , -0.3768743 , -0.3678821 ],\n",
       "       [-0.37695918, -0.36781987,  4.07473139,  3.85698896, -0.37642794,\n",
       "        -0.36861094, -0.37804163, -0.37092313],\n",
       "       [-0.37826506, -0.37092126, -0.37704063, -0.36789477,  4.07501719,\n",
       "         3.85733564, -0.37628829, -0.36855107],\n",
       "       [-0.37651446, -0.36848117, -0.37813872, -0.37091749, -0.37693403,\n",
       "        -0.3680256 ,  4.07101172,  3.85603747],\n",
       "       [ 4.47375612,  4.56547242,  4.46840698,  4.56496223,  4.47712541,\n",
       "         4.56615839,  4.47304231,  4.56571021],\n",
       "       [ 4.5573306 ,  4.67540088,  1.27311917, -0.37209513, -0.37874296,\n",
       "        -0.37203399, -0.37477211,  0.66529174],\n",
       "       [-0.37473205,  0.6665937 ,  4.55776593,  4.67685705,  1.2730483 ,\n",
       "        -0.37201189, -0.37859593, -0.37174088],\n",
       "       [-0.37906812, -0.37158975, -0.37502125,  0.66253194,  4.54926889,\n",
       "         4.67168353,  1.27078751, -0.37189349],\n",
       "       [ 1.27261929, -0.37207072, -0.37846603, -0.37193948, -0.37497655,\n",
       "         0.66849679,  4.55937106,  4.67690433]])"
      ]
     },
     "execution_count": 16,
     "metadata": {},
     "output_type": "execute_result"
    }
   ],
   "source": [
    "train_data = pd.read_excel('all_label.xlsx', header=None)\n",
    "train_features = train_data.iloc[:, :8].values\n",
    "train_labels = train_data.iloc[:, 8].values\n",
    "\n",
    "# 数据标准化\n",
    "if standard_flag:\n",
    "    scaler = StandardScaler()\n",
    "    train_features = scaler.fit_transform(train_features)\n",
    "    train_features\n",
    "\n",
    "train_features"
   ]
  },
  {
   "cell_type": "code",
   "execution_count": 17,
   "metadata": {},
   "outputs": [
    {
     "data": {
      "text/plain": [
       "array([[-8.63291488e-01, -7.04903385e-05],\n",
       "       [-1.01460146e+00,  1.08140709e-02],\n",
       "       [-1.01446451e+00,  6.64868712e-02],\n",
       "       [-1.01450420e+00, -1.11629569e-02],\n",
       "       [-1.01465847e+00, -6.63791891e-02],\n",
       "       [-8.63107446e-01, -1.42458535e-04],\n",
       "       [-9.98960628e-01,  1.67861316e-02],\n",
       "       [-9.98857679e-01,  7.28673951e-02],\n",
       "       [-9.98814930e-01, -1.67206085e-02],\n",
       "       [-9.98785906e-01, -7.28633381e-02],\n",
       "       [-6.97214234e-01, -5.42926091e-05],\n",
       "       [-9.74961102e-01,  1.95307185e-02],\n",
       "       [-9.74820149e-01,  1.19916847e-01],\n",
       "       [-9.74838262e-01, -1.99047713e-02],\n",
       "       [-9.75024439e-01, -1.19753716e-01],\n",
       "       [-6.97338155e-01, -1.52996289e-04],\n",
       "       [-9.45155367e-01,  3.04625428e-02],\n",
       "       [-9.45043980e-01,  1.32962140e-01],\n",
       "       [-9.45102988e-01, -3.04063829e-02],\n",
       "       [-9.44962893e-01, -1.32931789e-01],\n",
       "       [-6.42350515e-01, -4.89058476e-05],\n",
       "       [-9.62048273e-01,  2.23649733e-02],\n",
       "       [-9.61905803e-01,  1.37390434e-01],\n",
       "       [-9.61917229e-01, -2.27472696e-02],\n",
       "       [-9.62113668e-01, -1.37208891e-01],\n",
       "       [-6.42584442e-01, -1.57167021e-04],\n",
       "       [-9.27394730e-01,  3.49822789e-02],\n",
       "       [-9.27280656e-01,  1.52816339e-01],\n",
       "       [-9.27371668e-01, -3.49292453e-02],\n",
       "       [-9.27196151e-01, -1.52777768e-01],\n",
       "       [-4.78837557e-01, -3.27263234e-05],\n",
       "       [-9.23954916e-01,  3.07131177e-02],\n",
       "       [-9.23807474e-01,  1.89090806e-01],\n",
       "       [-9.23799959e-01, -3.11198269e-02],\n",
       "       [-9.24026384e-01, -1.88854103e-01],\n",
       "       [-4.79413794e-01, -1.71232622e-04],\n",
       "       [-8.74486134e-01,  4.84536172e-02],\n",
       "       [-8.74364287e-01,  2.11989902e-01],\n",
       "       [-8.74547441e-01, -4.84101159e-02],\n",
       "       [-8.74268749e-01, -2.11927957e-01],\n",
       "       [-4.24626359e-01, -2.73120598e-05],\n",
       "       [-9.11430889e-01,  3.34539453e-02],\n",
       "       [-9.11281673e-01,  2.06130369e-01],\n",
       "       [-9.11268150e-01, -3.38687053e-02],\n",
       "       [-9.11504355e-01, -2.05875290e-01],\n",
       "       [-4.25319713e-01, -1.76355652e-04],\n",
       "       [-8.56950614e-01,  5.29197962e-02],\n",
       "       [-8.56819806e-01,  2.31605523e-01],\n",
       "       [-8.57038539e-01, -5.28802984e-02],\n",
       "       [-8.56726811e-01, -2.31538960e-01],\n",
       "       [ 3.78777958e-01,  5.49960964e-05],\n",
       "       [-7.29237248e-01,  7.31834956e-02],\n",
       "       [-7.29057521e-01,  4.55403481e-01],\n",
       "       [-7.28964115e-01, -7.37161419e-02],\n",
       "       [-7.29339932e-01, -4.54872573e-01],\n",
       "       [ 3.76234940e-01, -2.68814033e-04],\n",
       "       [-5.97045822e-01,  1.19329965e-01],\n",
       "       [-5.96777873e-01,  5.22201949e-01],\n",
       "       [-5.97414171e-01, -1.19474513e-01],\n",
       "       [-5.96720526e-01, -5.22082866e-01],\n",
       "       [ 8.56240116e-01,  1.05281852e-04],\n",
       "       [-6.22532330e-01,  9.63773302e-02],\n",
       "       [-6.22332472e-01,  6.02054287e-01],\n",
       "       [-6.22195935e-01, -9.69793657e-02],\n",
       "       [-6.22652247e-01, -6.01357534e-01],\n",
       "       [ 8.52541711e-01, -3.32095936e-04],\n",
       "       [-4.42649246e-01,  1.58784920e-01],\n",
       "       [-4.42360633e-01,  6.94908434e-01],\n",
       "       [-4.43215741e-01, -1.58963766e-01],\n",
       "       [-4.42257355e-01, -6.94737955e-01],\n",
       "       [ 2.31632364e+00,  2.62139373e-04],\n",
       "       [-2.98807032e-01,  1.66605732e-01],\n",
       "       [-2.98542268e-01,  1.04807654e+00],\n",
       "       [-2.98281332e-01, -1.67418836e-01],\n",
       "       [-2.98979631e-01, -1.04686879e+00],\n",
       "       [ 2.30898538e+00, -5.40742648e-04],\n",
       "       [ 2.92064132e-02,  2.79195151e-01],\n",
       "       [ 2.95575232e-02,  1.22306120e+00],\n",
       "       [ 2.80485371e-02, -2.79492054e-01],\n",
       "       [ 2.98117197e-02, -1.22274674e+00],\n",
       "       [ 1.28171198e+01,  1.41715844e-03],\n",
       "       [ 2.01141950e+00,  6.66747423e-01],\n",
       "       [ 2.01217685e+00,  4.23887232e+00],\n",
       "       [ 2.01327144e+00, -6.69070018e-01],\n",
       "       [ 2.01086601e+00, -4.23395548e+00],\n",
       "       [ 1.27827472e+01, -2.15521155e-03],\n",
       "       [ 3.41992429e+00,  1.14297158e+00],\n",
       "       [ 3.42073033e+00,  5.02160714e+00],\n",
       "       [ 3.41436230e+00, -1.14426734e+00],\n",
       "       [ 3.42216278e+00, -5.02036238e+00]])"
      ]
     },
     "execution_count": 17,
     "metadata": {},
     "output_type": "execute_result"
    }
   ],
   "source": [
    "from sklearn.decomposition import PCA\n",
    "# PCA降维\n",
    "# 进行PCA降维\n",
    "pca = PCA(n_components=2)  # 设置降维后的维度为2\n",
    "features_pca = pca.fit_transform(train_features)\n",
    "features_pca"
   ]
  },
  {
   "cell_type": "code",
   "execution_count": 18,
   "metadata": {},
   "outputs": [
    {
     "data": {
      "text/html": [
       "<style>#sk-container-id-2 {color: black;background-color: white;}#sk-container-id-2 pre{padding: 0;}#sk-container-id-2 div.sk-toggleable {background-color: white;}#sk-container-id-2 label.sk-toggleable__label {cursor: pointer;display: block;width: 100%;margin-bottom: 0;padding: 0.3em;box-sizing: border-box;text-align: center;}#sk-container-id-2 label.sk-toggleable__label-arrow:before {content: \"▸\";float: left;margin-right: 0.25em;color: #696969;}#sk-container-id-2 label.sk-toggleable__label-arrow:hover:before {color: black;}#sk-container-id-2 div.sk-estimator:hover label.sk-toggleable__label-arrow:before {color: black;}#sk-container-id-2 div.sk-toggleable__content {max-height: 0;max-width: 0;overflow: hidden;text-align: left;background-color: #f0f8ff;}#sk-container-id-2 div.sk-toggleable__content pre {margin: 0.2em;color: black;border-radius: 0.25em;background-color: #f0f8ff;}#sk-container-id-2 input.sk-toggleable__control:checked~div.sk-toggleable__content {max-height: 200px;max-width: 100%;overflow: auto;}#sk-container-id-2 input.sk-toggleable__control:checked~label.sk-toggleable__label-arrow:before {content: \"▾\";}#sk-container-id-2 div.sk-estimator input.sk-toggleable__control:checked~label.sk-toggleable__label {background-color: #d4ebff;}#sk-container-id-2 div.sk-label input.sk-toggleable__control:checked~label.sk-toggleable__label {background-color: #d4ebff;}#sk-container-id-2 input.sk-hidden--visually {border: 0;clip: rect(1px 1px 1px 1px);clip: rect(1px, 1px, 1px, 1px);height: 1px;margin: -1px;overflow: hidden;padding: 0;position: absolute;width: 1px;}#sk-container-id-2 div.sk-estimator {font-family: monospace;background-color: #f0f8ff;border: 1px dotted black;border-radius: 0.25em;box-sizing: border-box;margin-bottom: 0.5em;}#sk-container-id-2 div.sk-estimator:hover {background-color: #d4ebff;}#sk-container-id-2 div.sk-parallel-item::after {content: \"\";width: 100%;border-bottom: 1px solid gray;flex-grow: 1;}#sk-container-id-2 div.sk-label:hover label.sk-toggleable__label {background-color: #d4ebff;}#sk-container-id-2 div.sk-serial::before {content: \"\";position: absolute;border-left: 1px solid gray;box-sizing: border-box;top: 0;bottom: 0;left: 50%;z-index: 0;}#sk-container-id-2 div.sk-serial {display: flex;flex-direction: column;align-items: center;background-color: white;padding-right: 0.2em;padding-left: 0.2em;position: relative;}#sk-container-id-2 div.sk-item {position: relative;z-index: 1;}#sk-container-id-2 div.sk-parallel {display: flex;align-items: stretch;justify-content: center;background-color: white;position: relative;}#sk-container-id-2 div.sk-item::before, #sk-container-id-2 div.sk-parallel-item::before {content: \"\";position: absolute;border-left: 1px solid gray;box-sizing: border-box;top: 0;bottom: 0;left: 50%;z-index: -1;}#sk-container-id-2 div.sk-parallel-item {display: flex;flex-direction: column;z-index: 1;position: relative;background-color: white;}#sk-container-id-2 div.sk-parallel-item:first-child::after {align-self: flex-end;width: 50%;}#sk-container-id-2 div.sk-parallel-item:last-child::after {align-self: flex-start;width: 50%;}#sk-container-id-2 div.sk-parallel-item:only-child::after {width: 0;}#sk-container-id-2 div.sk-dashed-wrapped {border: 1px dashed gray;margin: 0 0.4em 0.5em 0.4em;box-sizing: border-box;padding-bottom: 0.4em;background-color: white;}#sk-container-id-2 div.sk-label label {font-family: monospace;font-weight: bold;display: inline-block;line-height: 1.2em;}#sk-container-id-2 div.sk-label-container {text-align: center;}#sk-container-id-2 div.sk-container {/* jupyter's `normalize.less` sets `[hidden] { display: none; }` but bootstrap.min.css set `[hidden] { display: none !important; }` so we also need the `!important` here to be able to override the default hidden behavior on the sphinx rendered scikit-learn.org. See: https://github.com/scikit-learn/scikit-learn/issues/21755 */display: inline-block !important;position: relative;}#sk-container-id-2 div.sk-text-repr-fallback {display: none;}</style><div id=\"sk-container-id-2\" class=\"sk-top-container\"><div class=\"sk-text-repr-fallback\"><pre>KNeighborsClassifier(n_neighbors=2, weights=&#x27;distance&#x27;)</pre><b>In a Jupyter environment, please rerun this cell to show the HTML representation or trust the notebook. <br />On GitHub, the HTML representation is unable to render, please try loading this page with nbviewer.org.</b></div><div class=\"sk-container\" hidden><div class=\"sk-item\"><div class=\"sk-estimator sk-toggleable\"><input class=\"sk-toggleable__control sk-hidden--visually\" id=\"sk-estimator-id-2\" type=\"checkbox\" checked><label for=\"sk-estimator-id-2\" class=\"sk-toggleable__label sk-toggleable__label-arrow\">KNeighborsClassifier</label><div class=\"sk-toggleable__content\"><pre>KNeighborsClassifier(n_neighbors=2, weights=&#x27;distance&#x27;)</pre></div></div></div></div></div>"
      ],
      "text/plain": [
       "KNeighborsClassifier(n_neighbors=2, weights='distance')"
      ]
     },
     "execution_count": 18,
     "metadata": {},
     "output_type": "execute_result"
    }
   ],
   "source": [
    "# 创建KNN分类器\n",
    "k = 2  # 降维后为2分类\n",
    "knn = KNeighborsClassifier(n_neighbors=k, weights='distance')\n",
    "\n",
    "# 训练\n",
    "knn.fit(features_pca, train_labels)"
   ]
  },
  {
   "cell_type": "code",
   "execution_count": 19,
   "metadata": {},
   "outputs": [
    {
     "data": {
      "image/png": "[encoded data removed]",
      "text/plain": [
       "<Figure size 640x480 with 1 Axes>"
      ]
     },
     "metadata": {},
     "output_type": "display_data"
    }
   ],
   "source": [
    "# PCA降维后的KNN分类可视化\n",
    "predicted_labels = knn.predict(features_pca)\n",
    "\n",
    "plt.scatter(features_pca[:, 0], features_pca[:, 1], c=predicted_labels, cmap='viridis')\n",
    "plt.title('KNN Classification')\n",
    "plt.xlabel('Principal Component 1')\n",
    "plt.ylabel('Principal Component 2')\n",
    "plt.show()"
   ]
  },
  {
   "cell_type": "markdown",
   "metadata": {},
   "source": [
    "# 测试"
   ]
  },
  {
   "cell_type": "code",
   "execution_count": 20,
   "metadata": {},
   "outputs": [
    {
     "data": {
      "text/plain": [
       "array([0, 0, 0, 0, 1, 1, 1, 1, 2, 2, 2, 2, 3, 3, 3, 3, 4, 4, 4, 4, 5, 5,\n",
       "       5, 5, 6, 6, 6, 6, 7, 7, 7, 7, 8, 8, 8, 8], dtype=int64)"
      ]
     },
     "execution_count": 20,
     "metadata": {},
     "output_type": "execute_result"
    }
   ],
   "source": [
    "# 测试\n",
    "test_data = pd.read_excel('test_label.xlsx', header=None)\n",
    "\n",
    "test_features = test_data.iloc[:, :8].values\n",
    "test_labels = test_data.iloc[:, 8].values\n",
    "test_labels"
   ]
  },
  {
   "cell_type": "code",
   "execution_count": 21,
   "metadata": {},
   "outputs": [],
   "source": [
    "# 标准化\n",
    "if standard_flag:\n",
    "    test_features = scaler.transform(test_features)"
   ]
  },
  {
   "cell_type": "code",
   "execution_count": 22,
   "metadata": {},
   "outputs": [
    {
     "data": {
      "text/plain": [
       "array([[-0.94522818, -0.05813901],\n",
       "       [-0.9449617 , -0.04512254],\n",
       "       [-0.94506114,  0.05822412],\n",
       "       [-0.94526729,  0.04493352],\n",
       "       [-0.8780493 , -0.10600698],\n",
       "       [-0.87773586, -0.08231129],\n",
       "       [-0.87783841,  0.10613591],\n",
       "       [-0.87809084,  0.08209646],\n",
       "       [-0.85585084, -0.121817  ],\n",
       "       [-0.8555221 , -0.09459638],\n",
       "       [-0.85562606,  0.12196012],\n",
       "       [-0.85589345,  0.09437259],\n",
       "       [-0.78968396, -0.16892445],\n",
       "       [-0.78931023, -0.13120589],\n",
       "       [-0.78941916,  0.16910923],\n",
       "       [-0.78973043,  0.13095439],\n",
       "       [-0.76774568, -0.18453849],\n",
       "       [-0.76735721, -0.14334166],\n",
       "       [-0.76746799,  0.18473692],\n",
       "       [-0.76779361,  0.1430807 ],\n",
       "       [-0.4426567 , -0.41574544],\n",
       "       [-0.44205745, -0.32308434],\n",
       "       [-0.44220134,  0.41614062],\n",
       "       [-0.44273281,  0.3226736 ],\n",
       "       [-0.2495146 , -0.55303231],\n",
       "       [-0.24879441, -0.42982895],\n",
       "       [-0.24896003,  0.55354204],\n",
       "       [-0.24961076,  0.42932447],\n",
       "       [ 0.34090503, -0.97258655],\n",
       "       [ 0.34198595, -0.75606222],\n",
       "       [ 0.34175234,  0.97344352],\n",
       "       [ 0.34074171,  0.75526244],\n",
       "       [ 4.58474336, -3.98757952],\n",
       "       [ 4.58834315, -3.10044768],\n",
       "       [ 4.58762964,  3.99092623],\n",
       "       [ 4.58406038,  3.09745379]])"
      ]
     },
     "execution_count": 22,
     "metadata": {},
     "output_type": "execute_result"
    }
   ],
   "source": [
    "from sklearn.decomposition import PCA\n",
    "# PCA降维\n",
    "# 进行PCA降维\n",
    "pca = PCA(n_components=2)  # 设置降维后的维度为2\n",
    "test_features_pca = pca.fit_transform(test_features)\n",
    "test_features_pca"
   ]
  },
  {
   "cell_type": "code",
   "execution_count": 23,
   "metadata": {},
   "outputs": [
    {
     "data": {
      "text/plain": [
       "array([1, 1, 1, 1, 4, 3, 4, 3, 4, 4, 4, 4, 4, 5, 4, 5, 4, 5, 4, 5, 5, 6,\n",
       "       5, 6, 6, 7, 6, 7, 7, 7, 7, 7, 8, 8, 8, 8], dtype=int64)"
      ]
     },
     "execution_count": 23,
     "metadata": {},
     "output_type": "execute_result"
    }
   ],
   "source": [
    "predicted_labels = knn.predict(test_features_pca)\n",
    "predicted_labels"
   ]
  },
  {
   "cell_type": "code",
   "execution_count": 24,
   "metadata": {},
   "outputs": [
    {
     "data": {
      "text/plain": [
       "array([[0.        , 0.51360137, 0.48639863, 0.        , 0.        ,\n",
       "        0.        , 0.        , 0.        , 0.        ],\n",
       "       [0.        , 0.58008202, 0.41991798, 0.        , 0.        ,\n",
       "        0.        , 0.        , 0.        , 0.        ],\n",
       "       [0.        , 0.51257283, 0.48742717, 0.        , 0.        ,\n",
       "        0.        , 0.        , 0.        , 0.        ],\n",
       "       [0.        , 0.58567407, 0.41432593, 0.        , 0.        ,\n",
       "        0.        , 0.        , 0.        , 0.        ],\n",
       "       [0.        , 0.        , 0.        , 0.49750639, 0.50249361,\n",
       "        0.        , 0.        , 0.        , 0.        ],\n",
       "       [0.        , 0.        , 0.        , 0.51377428, 0.48622572,\n",
       "        0.        , 0.        , 0.        , 0.        ],\n",
       "       [0.        , 0.        , 0.        , 0.49734241, 0.50265759,\n",
       "        0.        , 0.        , 0.        , 0.        ],\n",
       "       [0.        , 0.        , 0.        , 0.51570835, 0.48429165,\n",
       "        0.        , 0.        , 0.        , 0.        ],\n",
       "       [0.        , 0.        , 0.        , 0.47649047, 0.52350953,\n",
       "        0.        , 0.        , 0.        , 0.        ],\n",
       "       [0.        , 0.        , 0.        , 0.45524461, 0.54475539,\n",
       "        0.        , 0.        , 0.        , 0.        ],\n",
       "       [0.        , 0.        , 0.        , 0.47642328, 0.52357672,\n",
       "        0.        , 0.        , 0.        , 0.        ],\n",
       "       [0.        , 0.        , 0.        , 0.45564049, 0.54435951,\n",
       "        0.        , 0.        , 0.        , 0.        ],\n",
       "       [0.        , 0.        , 0.        , 0.49155049, 0.50844951,\n",
       "        0.        , 0.        , 0.        , 0.        ],\n",
       "       [0.        , 0.        , 0.        , 0.        , 0.44595824,\n",
       "        0.55404176, 0.        , 0.        , 0.        ],\n",
       "       [0.        , 0.        , 0.        , 0.49134473, 0.50865527,\n",
       "        0.        , 0.        , 0.        , 0.        ],\n",
       "       [0.        , 0.        , 0.        , 0.        , 0.44816979,\n",
       "        0.55183021, 0.        , 0.        , 0.        ],\n",
       "       [0.        , 0.        , 0.        , 0.47778812, 0.52221188,\n",
       "        0.        , 0.        , 0.        , 0.        ],\n",
       "       [0.        , 0.        , 0.        , 0.        , 0.38771661,\n",
       "        0.61228339, 0.        , 0.        , 0.        ],\n",
       "       [0.        , 0.        , 0.        , 0.47770594, 0.52229406,\n",
       "        0.        , 0.        , 0.        , 0.        ],\n",
       "       [0.        , 0.        , 0.        , 0.        , 0.38868635,\n",
       "        0.61131365, 0.        , 0.        , 0.        ],\n",
       "       [0.        , 0.        , 0.        , 0.        , 0.        ,\n",
       "        0.5783634 , 0.4216366 , 0.        , 0.        ],\n",
       "       [0.        , 0.        , 0.        , 0.        , 0.        ,\n",
       "        0.        , 0.56353155, 0.43646845, 0.        ],\n",
       "       [0.        , 0.        , 0.        , 0.        , 0.        ,\n",
       "        0.57856165, 0.42143835, 0.        , 0.        ],\n",
       "       [0.        , 0.        , 0.        , 0.        , 0.        ,\n",
       "        0.        , 0.56434585, 0.43565415, 0.        ],\n",
       "       [0.        , 0.        , 0.        , 0.        , 0.        ,\n",
       "        0.40698191, 0.59301809, 0.        , 0.        ],\n",
       "       [0.        , 0.        , 0.        , 0.        , 0.        ,\n",
       "        0.        , 0.        , 1.        , 0.        ],\n",
       "       [0.        , 0.        , 0.        , 0.        , 0.        ,\n",
       "        0.40686888, 0.59313112, 0.        , 0.        ],\n",
       "       [0.        , 0.        , 0.        , 0.        , 0.        ,\n",
       "        0.        , 0.        , 1.        , 0.        ],\n",
       "       [0.        , 0.        , 0.        , 0.        , 0.        ,\n",
       "        0.        , 0.        , 1.        , 0.        ],\n",
       "       [0.        , 0.        , 0.        , 0.        , 0.        ,\n",
       "        0.        , 0.        , 1.        , 0.        ],\n",
       "       [0.        , 0.        , 0.        , 0.        , 0.        ,\n",
       "        0.        , 0.        , 1.        , 0.        ],\n",
       "       [0.        , 0.        , 0.        , 0.        , 0.        ,\n",
       "        0.        , 0.        , 1.        , 0.        ],\n",
       "       [0.        , 0.        , 0.        , 0.        , 0.        ,\n",
       "        0.        , 0.        , 0.        , 1.        ],\n",
       "       [0.        , 0.        , 0.        , 0.        , 0.        ,\n",
       "        0.        , 0.        , 0.        , 1.        ],\n",
       "       [0.        , 0.        , 0.        , 0.        , 0.        ,\n",
       "        0.        , 0.        , 0.        , 1.        ],\n",
       "       [0.        , 0.        , 0.        , 0.        , 0.        ,\n",
       "        0.        , 0.        , 0.        , 1.        ]])"
      ]
     },
     "execution_count": 24,
     "metadata": {},
     "output_type": "execute_result"
    }
   ],
   "source": [
    "predicted_scores = knn.predict_proba(test_features_pca)\n",
    "predicted_scores"
   ]
  },
  {
   "cell_type": "code",
   "execution_count": 25,
   "metadata": {},
   "outputs": [
    {
     "name": "stdout",
     "output_type": "stream",
     "text": [
      "Accuracy: 38.88888888888889%\n"
     ]
    }
   ],
   "source": [
    "correct = (predicted_labels == test_labels).sum().item()\n",
    "total = len(test_data)\n",
    "accuracy = correct / total\n",
    "print(f\"Accuracy: {accuracy * 100}%\")"
   ]
  },
  {
   "cell_type": "code",
   "execution_count": 26,
   "metadata": {},
   "outputs": [
    {
     "data": {
      "image/png": "[encoded data removed]",
      "text/plain": [
       "<Figure size 640x480 with 2 Axes>"
      ]
     },
     "metadata": {},
     "output_type": "display_data"
    }
   ],
   "source": [
    "from sklearn.metrics import confusion_matrix\n",
    "\n",
    "# 计算混淆矩阵\n",
    "cm = confusion_matrix(test_labels, predicted_labels)\n",
    "\n",
    "plt.imshow(cm, cmap='Blues')\n",
    "plt.colorbar()\n",
    "classes = ['0', '1', '2', '3', '4', '5', '6', '7']\n",
    "tick_marks = np.arange(len(classes))\n",
    "plt.xticks(tick_marks, classes)\n",
    "plt.yticks(tick_marks, classes)\n",
    "\n",
    "thresh = cm.max() / 2.0\n",
    "for i in range(cm.shape[0]):\n",
    "    for j in range(cm.shape[1]):\n",
    "        plt.text(j, i, format(cm[i, j], 'd'),\n",
    "                 horizontalalignment=\"center\",\n",
    "                 color=\"white\" if cm[i, j] > thresh else \"black\")\n",
    "\n",
    "plt.title(\"Confusion Matrix\")\n",
    "plt.xlabel(\"Predicted Label\")\n",
    "plt.ylabel(\"True Label\")\n",
    "plt.show()"
   ]
  },
  {
   "cell_type": "code",
   "execution_count": 27,
   "metadata": {},
   "outputs": [
    {
     "name": "stdout",
     "output_type": "stream",
     "text": [
      "              precision    recall  f1-score   support\n",
      "\n",
      "           0       0.00      0.00      0.00         4\n",
      "           1       0.00      0.00      0.00         4\n",
      "           2       0.00      0.00      0.00         4\n",
      "           3       0.00      0.00      0.00         4\n",
      "           4       0.20      0.50      0.29         4\n",
      "           5       0.33      0.50      0.40         4\n",
      "           6       0.50      0.50      0.50         4\n",
      "           7       0.67      1.00      0.80         4\n",
      "           8       1.00      1.00      1.00         4\n",
      "\n",
      "    accuracy                           0.39        36\n",
      "   macro avg       0.30      0.39      0.33        36\n",
      "weighted avg       0.30      0.39      0.33        36\n",
      "\n"
     ]
    }
   ],
   "source": [
    "import numpy as np\n",
    "from sklearn.metrics import classification_report\n",
    "import warnings\n",
    "warnings.filterwarnings(\"ignore\")\n",
    "\n",
    "# 计算分类报告\n",
    "report = classification_report(test_labels, predicted_labels)\n",
    "print(report)"
   ]
  }
 ],
 "metadata": {
  "kernelspec": {
   "display_name": "Python 3",
   "language": "python",
   "name": "python3"
  },
  "language_info": {
   "codemirror_mode": {
    "name": "ipython",
    "version": 3
   },
   "file_extension": ".py",
   "mimetype": "text/x-python",
   "name": "python",
   "nbconvert_exporter": "python",
   "pygments_lexer": "ipython3",
   "version": "3.8.0"
  }
 },
 "nbformat": 4,
 "nbformat_minor": 2
}
